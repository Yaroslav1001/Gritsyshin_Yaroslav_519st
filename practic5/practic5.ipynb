{
 "cells": [
  {
   "cell_type": "code",
   "execution_count": null,
   "metadata": {},
   "outputs": [],
   "source": [
    "import numpy as np\n",
    "import matplotlib.pyplot as plt\n",
    "%matplotlib inline\n",
    "N = 128\n",
    "x_rect = np.zeros(N)\n",
    "x_rect[64:96] = 1\n",
    "T = len(x_rect)\n",
    "t = np.arange(T)\n",
    "def cof(x_rect, N):\n",
    "    an = []\n",
    "    bn = []\n",
    "    for n in range(N+1):\n",
    "        s = 0; s1 = 0\n",
    "        for i in range(T):\n",
    "            s = s + np.cos(2 * np.pi * n * i/T) * x_rect[i]\n",
    "            s1 = s1 + np.sin(2 * np.pi * n * i/T) * x_rect[i]\n",
    "        an.append(s * (2/T))\n",
    "        bn.append(s1 * (2/T))\n",
    "    return an, bn   "
   ]
  }
 ],
 "metadata": {
  "language_info": {
   "name": "python"
  },
  "orig_nbformat": 4
 },
 "nbformat": 4,
 "nbformat_minor": 2
}
